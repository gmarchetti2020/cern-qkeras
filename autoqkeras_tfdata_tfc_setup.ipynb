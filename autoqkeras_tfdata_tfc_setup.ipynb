{
  "nbformat": 4,
  "nbformat_minor": 5,
  "metadata": {
    "colab": {
      "name": "autoqkeras-tfdata-tfc-setup.ipynb",
      "provenance": [],
      "collapsed_sections": [],
      "machine_shape": "hm"
    },
    "environment": {
      "name": "tf2-gpu.2-5.m73",
      "type": "gcloud",
      "uri": "gcr.io/deeplearning-platform-release/tf2-gpu.2-5:m73"
    },
    "kernelspec": {
      "display_name": "Python 3",
      "language": "python",
      "name": "python3"
    },
    "language_info": {
      "codemirror_mode": {
        "name": "ipython",
        "version": 3
      },
      "file_extension": ".py",
      "mimetype": "text/x-python",
      "name": "python",
      "nbconvert_exporter": "python",
      "pygments_lexer": "ipython3",
      "version": "3.7.10"
    }
  },
  "cells": [
    {
      "cell_type": "markdown",
      "metadata": {
        "id": "K02ofgdWPu8m"
      },
      "source": [
        "# Set GCP Parameters"
      ],
      "id": "K02ofgdWPu8m"
    },
    {
      "cell_type": "code",
      "metadata": {
        "id": "b0110029"
      },
      "source": [
        "# Set Google Cloud Specific parameters\n",
        "\n",
        "# TODO: Please set GCP_PROJECT_ID to your own Google Cloud project ID.\n",
        "GCP_PROJECT_ID = 'gm-cern-304701' "
      ],
      "id": "b0110029",
      "execution_count": 6,
      "outputs": []
    },
    {
      "cell_type": "markdown",
      "metadata": {
        "id": "03JA7lN7Ykgo"
      },
      "source": [
        "## Authenticate"
      ],
      "id": "03JA7lN7Ykgo"
    },
    {
      "cell_type": "code",
      "metadata": {
        "id": "YYPUXFHdJaSP"
      },
      "source": [
        "import sys\n",
        "import os\n",
        "# Authentication for Kaggle Notebooks\n",
        "if \"kaggle_secrets\" in sys.modules:\n",
        "    from kaggle_secrets import UserSecretsClient\n",
        "    UserSecretsClient().set_gcloud_credentials(project=GCP_PROJECT_ID)\n",
        "\n",
        "# Authentication for Colab Notebooks\n",
        "if \"google.colab\" in sys.modules:\n",
        "    from google.colab import auth\n",
        "    auth.authenticate_user()\n",
        "    os.environ[\"GOOGLE_CLOUD_PROJECT\"] = GCP_PROJECT_ID"
      ],
      "id": "YYPUXFHdJaSP",
      "execution_count": 7,
      "outputs": []
    },
    {
      "cell_type": "markdown",
      "metadata": {
        "id": "F2SbKmSVw_yO"
      },
      "source": [
        "# Set up services and accounts"
      ],
      "id": "F2SbKmSVw_yO"
    },
    {
      "cell_type": "code",
      "metadata": {
        "colab": {
          "base_uri": "https://localhost:8080/"
        },
        "id": "1A5gEtrSZJsl",
        "outputId": "1c3387f3-4a5d-4dc9-d5f8-ff17cc5205a8"
      },
      "source": [
        "!gcloud beta billing accounts list"
      ],
      "id": "1A5gEtrSZJsl",
      "execution_count": 8,
      "outputs": [
        {
          "output_type": "stream",
          "text": [
            "ACCOUNT_ID            NAME                           OPEN  MASTER_ACCOUNT_ID\n",
            "01E1A8-3E1885-567AE2  Argolis Billing (gimarchetti)  True\n"
          ],
          "name": "stdout"
        }
      ]
    },
    {
      "cell_type": "code",
      "metadata": {
        "colab": {
          "base_uri": "https://localhost:8080/"
        },
        "id": "pYGUGOSfZPgQ",
        "outputId": "2a9f6dc3-b588-42fe-d122-bd15f66ab58b"
      },
      "source": [
        "BILLING_ACCOUNT_ID = '01E1A8-3E1885-567AE2'\n",
        "!gcloud beta billing projects link $GCP_PROJECT_ID --billing-account $BILLING_ACCOUNT_ID"
      ],
      "id": "pYGUGOSfZPgQ",
      "execution_count": 9,
      "outputs": [
        {
          "output_type": "stream",
          "text": [
            "billingAccountName: billingAccounts/01E1A8-3E1885-567AE2\n",
            "billingEnabled: true\n",
            "name: projects/gm-cern-304701/billingInfo\n",
            "projectId: gm-cern-304701\n"
          ],
          "name": "stdout"
        }
      ]
    },
    {
      "cell_type": "code",
      "metadata": {
        "colab": {
          "base_uri": "https://localhost:8080/"
        },
        "id": "VrKvC2U0ZViX",
        "outputId": "5a19c303-31de-4cc2-fddc-091329b0135d"
      },
      "source": [
        "!gcloud services --project $GCP_PROJECT_ID enable ml.googleapis.com cloudbuild.googleapis.com"
      ],
      "id": "VrKvC2U0ZViX",
      "execution_count": 10,
      "outputs": [
        {
          "output_type": "stream",
          "text": [
            "Operation \"operations/acf.p2-275189806395-fe841ea6-6a2e-4225-9466-5edeecaa7c31\" finished successfully.\n"
          ],
          "name": "stdout"
        }
      ]
    },
    {
      "cell_type": "code",
      "metadata": {
        "colab": {
          "base_uri": "https://localhost:8080/"
        },
        "id": "CpzntdKbC42K",
        "outputId": "0318010c-bf2d-4b05-d126-4994d40fb3eb"
      },
      "source": [
        "BUCKET_NAME = 'gm-cern-qkeras-vizier'\n",
        "GCS_BUCKET = f'gs://{BUCKET_NAME}'\n",
        "!gsutil mb -p $GCP_PROJECT_ID $GCS_BUCKET"
      ],
      "id": "CpzntdKbC42K",
      "execution_count": 11,
      "outputs": [
        {
          "output_type": "stream",
          "text": [
            "Creating gs://gm-cern-qkeras-vizier/...\n"
          ],
          "name": "stdout"
        }
      ]
    },
    {
      "cell_type": "code",
      "metadata": {
        "colab": {
          "base_uri": "https://localhost:8080/"
        },
        "id": "3hCS5SeQZ_f5",
        "outputId": "c3cffd9f-569e-4f7f-9e02-3b45eb65edd7"
      },
      "source": [
        "SERVICE_ACCOUNT_NAME ='viziersa'\n",
        "SERVICE_ACCOUNT_EMAIL = f'{SERVICE_ACCOUNT_NAME}@{GCP_PROJECT_ID}.iam.gserviceaccount.com'\n",
        "\n",
        "!gcloud iam --project $GCP_PROJECT_ID service-accounts create $SERVICE_ACCOUNT_NAME"
      ],
      "id": "3hCS5SeQZ_f5",
      "execution_count": 12,
      "outputs": [
        {
          "output_type": "stream",
          "text": [
            "Created service account [viziersa].\n"
          ],
          "name": "stdout"
        }
      ]
    },
    {
      "cell_type": "code",
      "metadata": {
        "colab": {
          "base_uri": "https://localhost:8080/"
        },
        "id": "c_UWICtEjxmZ",
        "outputId": "62d38a2b-f955-4163-ffb3-34eb9ab544f0"
      },
      "source": [
        "!gcloud projects describe $GCP_PROJECT_ID |grep projectNumber"
      ],
      "id": "c_UWICtEjxmZ",
      "execution_count": 13,
      "outputs": [
        {
          "output_type": "stream",
          "text": [
            "projectNumber: '275189806395'\n"
          ],
          "name": "stdout"
        }
      ]
    },
    {
      "cell_type": "code",
      "metadata": {
        "id": "J-ncZ90hj1ek"
      },
      "source": [
        "PROJECT_NUMBER = '275189806395'\n",
        "DEFAULT_AI_PLATFORM_SERVICE_ACCOUNT = f'service-{PROJECT_NUMBER}@cloud-ml.google.com.iam.gserviceaccount.com'"
      ],
      "id": "J-ncZ90hj1ek",
      "execution_count": 14,
      "outputs": []
    },
    {
      "cell_type": "code",
      "metadata": {
        "colab": {
          "base_uri": "https://localhost:8080/"
        },
        "id": "I8lLJgL9Zemc",
        "outputId": "e310e39c-7b58-4de5-9d82-8fd9c53ab3c9"
      },
      "source": [
        "!gcloud iam --project $GCP_PROJECT_ID service-accounts add-iam-policy-binding \\\n",
        "--role=roles/iam.serviceAccountAdmin \\\n",
        "--member=serviceAccount:$DEFAULT_AI_PLATFORM_SERVICE_ACCOUNT \\\n",
        "$SERVICE_ACCOUNT_EMAIL"
      ],
      "id": "I8lLJgL9Zemc",
      "execution_count": 15,
      "outputs": [
        {
          "output_type": "stream",
          "text": [
            "Updated IAM policy for serviceAccount [viziersa@gm-cern-304701.iam.gserviceaccount.com].\n",
            "bindings:\n",
            "- members:\n",
            "  - serviceAccount:service-275189806395@cloud-ml.google.com.iam.gserviceaccount.com\n",
            "  role: roles/iam.serviceAccountAdmin\n",
            "etag: BwXHAqRxE_M=\n",
            "version: 1\n"
          ],
          "name": "stdout"
        }
      ]
    },
    {
      "cell_type": "code",
      "metadata": {
        "colab": {
          "base_uri": "https://localhost:8080/"
        },
        "id": "hN50VMWwbASS",
        "outputId": "030c5655-7c36-4917-c298-c81759e1c282"
      },
      "source": [
        "!gcloud iam service-accounts --project $GCP_PROJECT_ID add-iam-policy-binding \\\n",
        "    $SERVICE_ACCOUNT_EMAIL \\\n",
        "    --member=\"user:admin@gimarchetti.altostrat.com\" \\\n",
        "    --role=\"roles/iam.serviceAccountUser\""
      ],
      "id": "hN50VMWwbASS",
      "execution_count": 16,
      "outputs": [
        {
          "output_type": "stream",
          "text": [
            "Updated IAM policy for serviceAccount [viziersa@gm-cern-304701.iam.gserviceaccount.com].\n",
            "bindings:\n",
            "- members:\n",
            "  - serviceAccount:service-275189806395@cloud-ml.google.com.iam.gserviceaccount.com\n",
            "  role: roles/iam.serviceAccountAdmin\n",
            "- members:\n",
            "  - user:admin@gimarchetti.altostrat.com\n",
            "  role: roles/iam.serviceAccountUser\n",
            "etag: BwXHAqyVQow=\n",
            "version: 1\n"
          ],
          "name": "stdout"
        }
      ]
    },
    {
      "cell_type": "code",
      "metadata": {
        "id": "mRx-3bAyatgb"
      },
      "source": [
        ""
      ],
      "id": "mRx-3bAyatgb",
      "execution_count": null,
      "outputs": []
    }
  ]
}